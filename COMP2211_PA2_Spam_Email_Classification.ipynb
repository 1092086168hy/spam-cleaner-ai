{
  "cells": [
    {
      "cell_type": "markdown",
      "metadata": {
        "id": "g-W1u8iQ4DqL"
      },
      "source": [
        "\n",
        "\n",
        "\n",
        "![Spam_Email.jpg](https://www.nelsonslaw.co.uk/wp-content/uploads/2024/03/iStock-902015458-970x546.jpg)\n",
        "Image credits: https://www.nelsonslaw.co.uk/wp-content/uploads/2024/03/iStock-902015458-970x546.jpg"
      ]
    },
    {
      "cell_type": "markdown",
      "metadata": {
        "id": "dGFXapYqKi8_"
      },
      "source": [
        "## We recommend using the Colab GPU.\n",
        "\n",
        "You can train neural networks much faster with a dedicated graphics processing unit (GPU). Fortunately, Google Colab offers free access to GPU instances. We recommend using them for quicker training.\n",
        "\n",
        "Before starting your instance, go to <code>Runtime</code>→<code>Change runtime type</code> in the top menu. Select the available GPU for <code>Hardware accelerator</code> and click <code>Save</code>. The following bash command will show information about the GPU allocated to you.\n"
      ]
    },
    {
      "cell_type": "code",
      "execution_count": null,
      "metadata": {
        "colab": {
          "base_uri": "https://localhost:8080/"
        },
        "id": "8WNvNuykKsNY",
        "outputId": "6253b441-4091-47f0-a186-8729bba0c6b4"
      },
      "outputs": [],
      "source": [
        "!nvidia-smi\n",
        "#Check allocated GPU"
      ]
    },
    {
      "cell_type": "markdown",
      "metadata": {
        "id": "ivgkA-Gj7JjW"
      },
      "source": [
        "# Introduction to Spam Email Classification"
      ]
    },
    {
      "cell_type": "markdown",
      "metadata": {
        "id": "FpZxyIy4XF6E"
      },
      "source": [
        "Have you ever wondered how your email client identifies and filters spam emails? Why do some emails end up in the 'junk' folder?\n",
        "\n",
        "In this assignment, we will explore spam email classification using Convolutional Neural Networks (CNNs).\n",
        "\n",
        "These algorithms are needed because the internet is flooded with spam emails that can be annoying, deceptive, or even harmful. Effective spam classification is important for improving user experience and protecting against threats. Traditional methods, like rule-based filters and Bayesian classifiers, often fail due to the changing tactics of spam. This is where machine learning, especially CNNs, becomes important. By learning patterns from a large dataset of labeled emails, CNNs can classify emails accurately.\n"
      ]
    },
    {
      "cell_type": "markdown",
      "metadata": {
        "id": "pRZC_bm27WMy"
      },
      "source": [
        "# **Section 1** Preprocessing the emails for training (3 tasks to complete)"
      ]
    },
    {
      "cell_type": "markdown",
      "metadata": {
        "id": "Xi0bRVknzvrI"
      },
      "source": [
        "## Data loading\n",
        "\n",
        "First, we load the email dataset into the Colab runtime. Upload the JSON file ```full_spam_dataset.json``` into the ```sample_data``` folder in the runtime. You can access the runtime folder by clicking the small folder icon on the left panel. Keep in mind that the uploaded file will be lost when your runtime disconnects. Make sure to upload it again after starting a new runtime."
      ]
    },
    {
      "cell_type": "code",
      "execution_count": 2,
      "metadata": {
        "id": "UjhA_0KdzKv8"
      },
      "outputs": [],
      "source": [
        "DATA_PATH = 'sample_data/full_spam_dataset.json'"
      ]
    },
    {
      "cell_type": "markdown",
      "metadata": {
        "id": "6HBsuiDqd50l"
      },
      "source": [
        "## Step 0: Clean the emails"
      ]
    },
    {
      "cell_type": "markdown",
      "metadata": {
        "id": "u4cpIWZ9rpsh"
      },
      "source": [
        "The first step is to clean the email text by removing punctuation and converting all characters to lowercase. These steps are already completed for you below. We strongly recommend that you **do not modify** this cell, as changes could affect the outputs of your code in later parts of the assignment."
      ]
    },
    {
      "cell_type": "code",
      "execution_count": null,
      "metadata": {
        "colab": {
          "base_uri": "https://localhost:8080/",
          "height": 162,
          "referenced_widgets": [
            "80e4eba1082c4915ba60488945fb4016",
            "5e67214c1a7043edb13d2f513a861856",
            "cd4e155b3239444da748a43d6baa0a80",
            "0c4493aa3271499791f73d29fb51e16c",
            "8597c6a6bb094ae488288ebb4fd4e590",
            "ca5133bbaeae4d2a8a5ed3d9eb471798",
            "7d09a099bdd94d719c25f8fdf6c420c4",
            "7babbc90ca6844f5a7ae8031b4d9d2ac",
            "425a4227f7044359ac56e2678b77e32f",
            "8f98485bb66f4803bda7b0c8582295eb",
            "beab8aebcdbb458aa581a709e3f04d8f"
          ]
        },
        "id": "R0p_a6_4p0OO",
        "outputId": "50f2436b-b553-4ea3-bf00-d8a7b57aa6bf"
      },
      "outputs": [],
      "source": [
        "#-#-#-#-#-#-#-#-#-#-#-#-#-#-#-#-#-#-#-#-#-#-#-#-#-#-#-#-#-#-#-#-#-#-#-#\n",
        "#-# STEP 0:  Clean email.  Remove punctuations, caps, HTML entities #-#\n",
        "#-#-#-#-#-#-#-#-#-#-#-#-#-#-#-#-#-#-#-#-#-#-#-#-#-#-#-#-#-#-#-#-#-#-#-#\n",
        "\n",
        "import sys\n",
        "import subprocess\n",
        "import warnings\n",
        "import os\n",
        "from collections import Counter\n",
        "from html import unescape\n",
        "import re\n",
        "import numpy as np\n",
        "\n",
        "def clean_email(text):\n",
        "    text = text.lower()  # Convert to lowercase\n",
        "    text = unescape(text)  # Decode HTML entities like &amp; or &lt;\n",
        "    text = re.sub(r'<[^>]+>', ' ', text)  # Remove HTML tags\n",
        "    text = re.sub(r'\\\\[a-z]', ' ', text)  # Remove any escape sequences like \\n, \\t\n",
        "    text = re.sub(r'http\\S+', '', text)  # Remove URLs\n",
        "    text = re.sub(r'[^a-z ]', '', text)  # Remove special characters and numbers\n",
        "    text = re.sub(' +', ' ', text)  # Replace multiple spaces with single space\n",
        "    return text.strip()  # Strip leading/trailing spaces\n",
        "\n",
        "if __name__ == '__main__':\n",
        "    warnings.filterwarnings(\"ignore\", category=UserWarning) # Mute HuggingFace warnings temporarily\n",
        "    original_stderr = sys.stderr\n",
        "    sys.stderr = open('/dev/null', 'w') # Mute Linux dependency stderr temporarily\n",
        "    try:\n",
        "        subprocess.run(['pip', 'install', 'datasets'], check=True)\n",
        "    finally: # Restore stderr and warnings\n",
        "        sys.stderr.close()\n",
        "        sys.stderr = original_stderr\n",
        "        warnings.filterwarnings(\"default\", category=UserWarning)\n",
        "\n",
        "    from datasets import load_dataset\n",
        "    print(\"Loading dataset...\")\n",
        "    ds = load_dataset('json', data_files=DATA_PATH)\n",
        "\n",
        "    SUBSET_SIZE = 1000  # Define the size of loaded subset\n",
        "    if 'train' in ds:\n",
        "        ds = ds['train'].shuffle(seed=42).select(range(SUBSET_SIZE))\n",
        "\n",
        "        print(\"Cleaning emails...\")\n",
        "        labels_of_emails = []\n",
        "        cleaned_emails = []\n",
        "        for email in ds:\n",
        "          cleaned_emails.append(clean_email(email['text']))\n",
        "          labels_of_emails.append(email['label'])\n",
        "\n",
        "        print(\"Sample cleaned email:\", cleaned_emails[:30])\n",
        "        print(\"Sample label:\", labels_of_emails[:30])  # 0 means ham (not spam) and 1 means spam\n",
        "        print(\"Labels_of_emails length:\", len(labels_of_emails))\n",
        "    else:\n",
        "        print(\"Failed to load the dataset.\")\n",
        "\n",
        "    os.makedirs(\"models\", exist_ok=True) # create a new folder \"models\" to save your model\n"
      ]
    },
    {
      "cell_type": "markdown",
      "metadata": {
        "id": "e-BtxY4nd-7x"
      },
      "source": [
        "## Step 1: Create the vocabulary and mapping"
      ]
    },
    {
      "cell_type": "markdown",
      "metadata": {
        "id": "grM--opddyQX"
      },
      "source": [
        "Next, use the cleaned text to create the following **four** variables. It's important to note that to manage the corpus size and filter out uncommon or infrequent words, our vocabulary (vocab) should include only words that appear **at least 5 times** in `cleaned_emails` (a list of strings where each entry is a cleaned email text).\n",
        "\n",
        "You will complete this function:\n",
        "<center>\n",
        "\n",
        "| function name  | parameter name      | parameter datatype | return type                                                              |\n",
        "|----------------|---------------------|--------------------|--------------------------------------------------------------------------|\n",
        "| `create_vocabulary` | `cleaned_emails` | `list[str]`         | `list[str], int, dict[str, int], dict[int, str]`        |\n",
        "\n",
        "</center>\n",
        "\n",
        "Which returns the following variables:\n",
        "\n",
        "<center>\n",
        "\n",
        "| Variable Name   | Data Type          | Description                                                                                                  |\n",
        "|-----------------|--------------------|--------------------------------------------------------------------------------------------------------------|\n",
        "| `vocab`         | `list[str]`         | A sorted list of unique words that appear **5 times or more** in the cleaned text.                              |\n",
        "| `vocab_size`    | `int`               | The total number of **unique** words in the vocabulary (`vocab`).                                               |\n",
        "| `word_to_index` | `dict[str, int]`    | A dictionary mapping each unique word in `vocab` to a unique integer index, based on alphabetical order.       |\n",
        "| `index_to_word` | `dict[int, str]`    | A dictionary mapping each index back to the corresponding word in `vocab`.                                     |\n",
        "\n",
        "</center>\n",
        "\n",
        "These variables are used to create a vocabulary model that maps words to indices and allows us to index words back to their original form. This process filters the vocabulary to include only frequently used words, optimizing memory usage and computation efficiency in later steps."
      ]
    },
    {
      "cell_type": "markdown",
      "metadata": {
        "id": "WP-QuZBfiK3J"
      },
      "source": [
        "\n",
        "\n",
        "---\n",
        "\n",
        "\n",
        "**Example**:\n",
        "\n",
        "For the cleaned text (assuming each of these words appears at least 5 times in all emails):\n",
        "> our special offer expires tomorrow dont miss out on this opportunity\n",
        "\n",
        "The generated variables would be:\n",
        "\n",
        "| Variable Name   | Content                                                                                                                   |\n",
        "|-----------------|---------------------------------------------------------------------------------------------------------------------------|\n",
        "| `vocab`         | `['dont', 'expires', 'miss', 'offer', 'on', 'opportunity', 'our', 'out', 'special', 'this', 'tomorrow']`                  |\n",
        "| `vocab_size`    | `11`                                                                                                                      |\n",
        "| `word_to_index` | `{'dont': 0, 'expires': 1, 'miss': 2, 'offer': 3, 'on': 4, 'opportunity': 5, 'our': 6, 'out': 7, 'special': 8, 'this': 9, 'tomorrow': 10}` |\n",
        "| `index_to_word` | `{0: 'dont', 1: 'expires', 2: 'miss', 3: 'offer', 4: 'on', 5: 'opportunity', 6: 'our', 7: 'out', 8: 'special', 9: 'this', 10: 'tomorrow'}` |"
      ]
    },
    {
      "cell_type": "markdown",
      "metadata": {
        "id": "RkTCPSnL2tI5"
      },
      "source": [
        "**Note**:\n",
        "\n",
        "Be aware that an incorrect implementation of this function may lead to inconsistent or inaccurate results in later tasks, which could affect your scores, even if your implementations for those tasks are correct. Please check the provided `sample_output_TODO1.txt` to verify the correctness of your implementation."
      ]
    },
    {
      "cell_type": "code",
      "execution_count": null,
      "metadata": {
        "colab": {
          "base_uri": "https://localhost:8080/"
        },
        "id": "PfwcSQeFaovH",
        "outputId": "8e4fd786-913e-4bef-8701-e1891483e450"
      },
      "outputs": [],
      "source": [
        "#-#-#-#-#-#-#-#-#-#-#-#-#-#-#-#-#-#-#-#-#-#-#-#-#-#-#-#-#-#-#-#-#-#-#-#-#-#-#-#-#-#-#-#\n",
        "#-# STEP 1:  Compile corpus, create vocab, vocab_size, word_to_index, index_to_word #-#\n",
        "#-#-#-#-#-#-#-#-#-#-#-#-#-#-#-#-#-#-#-#-#-#-#-#-#-#-#-#-#-#-#-#-#-#-#-#-#-#-#-#-#-#-#-#\n",
        "\n",
        "def create_vocabulary(cleaned_emails):\n",
        "    \"\"\"\n",
        "    Processes a list of cleaned email texts to generate a vocabulary and associated mappings.\n",
        "\n",
        "    Args:\n",
        "        cleaned_emails (list of str): A list where each entry is a cleaned email text.\n",
        "\n",
        "    Returns:\n",
        "        vocab (list of str): A **sorted** list of unique words appearing 5 or more times.\n",
        "        vocab_size (int): The number of unique words in the vocabulary.\n",
        "        word_to_index (dict of str: int): A dictionary mapping each word in `vocab` to a unique integer index.\n",
        "        index_to_word (dict of int: str): A dictionary mapping each integer index back to the corresponding word in `vocab`.\n",
        "    \"\"\"\n",
        "\n",
        "    word_to_index = {}\n",
        "    index_to_word = {}\n",
        "\n",
        "    ###############################################################################\n",
        "    # TODO 1: your code starts here\n",
        "    # hint: you may consider using:\n",
        "    #   .join():  concatenates a list of strings into a single string.\n",
        "    #   .split(): splits a string into a list. it splits by whitespace in default.\n",
        "    #   collections.Counter():  counts the frequency of elements in a list and returns a dictionary-like object.\n",
        "    #       e.g. you may use something like word_counts = Counter(words)\n",
        "    #                                   and word_counts[a_word_in_words] >= 5\n",
        "    #   .sort():  sorts a list in place.\n",
        "    #   set():    can remove duplicates from a list.\n",
        "    #   len():    returns the length of a list.\n",
        "    #   enumerate(): gives both the index and value when iterating over a list.\n",
        "    #\n",
        "    # Please make sure your ordered_words, vocab_size, word_to_index and index_to_word only considers words that appear >= 5 times,\n",
        "    # Or it might make the following steps impossible to run because of huge memory consumption.\n",
        "\n",
        "\n",
        "    # TODO 1: your code ends here\n",
        "    ###############################################################################\n",
        "\n",
        "    # do not modify this\n",
        "    return vocab, vocab_size, word_to_index, index_to_word\n",
        "\n",
        "# Create the vocabulary\n",
        "if __name__ == '__main__':\n",
        "    vocab, vocab_size, word_to_index, index_to_word = create_vocabulary(cleaned_emails)\n",
        "\n",
        "\n",
        "    # Sample outputs:\n",
        "    print(f\"Number of Unique Words that appear >=5 times (size of the vocabulary): {vocab_size}\\n\")\n",
        "\n",
        "    print(f\"Case 1\")\n",
        "    print(f\"vocab samples: {vocab[:20]}\")\n",
        "    print(f\"word_to_index samples: {list(word_to_index.items())[:20]}\")\n",
        "    print(f\"index_to_word samples: {list(index_to_word.items())[:20]}\\n\")\n",
        "\n",
        "    print(f\"Case 2\")\n",
        "    print(f\"vocab samples: {vocab[1000:1020]}\")\n",
        "    print(f\"word_to_index samples: {list(word_to_index.items())[1000:1020]}\")\n",
        "    print(f\"index_to_word samples: {list(index_to_word.items())[1000:1020]}\\n\")\n",
        "\n",
        "    print(f\"Case 3\")\n",
        "    print(f\"vocab samples: {vocab[4000:4020]}\")\n",
        "    print(f\"word_to_index samples: {list(word_to_index.items())[4000:4020]}\")\n",
        "    print(f\"index_to_word samples: {list(index_to_word.items())[4000:4020]}\\n\")\n"
      ]
    },
    {
      "cell_type": "markdown",
      "metadata": {
        "id": "7arK6FohjDuX"
      },
      "source": [
        "## Step 2: Encode the emails"
      ]
    },
    {
      "cell_type": "markdown",
      "metadata": {
        "id": "1sqH3phQkqTF"
      },
      "source": [
        "After completing the preparation work in the previous step, you need to create `encode_emails` to encode a list of cleaned email texts into sequences of integers. Each word in an email will be represented by a unique integer index from the `word_to_index` dictionary.\n",
        "\n",
        "The vocabulary includes words that appear at least 5 times in the corpus, ensuring that only frequent and meaningful words are included, while infrequent or possibly incorrect words are encoded as 0.\n",
        "\n",
        "To efficiently check if a word is in the vocabulary, consider converting the `vocab` list into a **`set`**. A `set` provides faster lookup than a `list` because it uses a hash table for implementation.\n",
        "\n",
        "You will complete the following function:\n",
        "\n",
        "<center>\n",
        "\n",
        "| function name | parameter name            | parameter datatype | return type                      |\n",
        "|--------------------------|----------------------------------------|-------------------|-------------------------------|\n",
        "| `encode_emails` | `cleaned_emails`<br> `vocab`<br> `word_to_index` | `list[str]`<br> `list[str]`<br> `dict[str, int]` | `list[list[int]]` |\n",
        "\n",
        "</center>\n",
        "\n",
        "Which returns the following variable:\n",
        "\n",
        "<center>\n",
        "\n",
        "| variable name             | datatype          | description                                                                          |\n",
        "|---------------------------|-------------------|--------------------------------------------------------------------------------------|\n",
        "| `encoded_emails`      | `list[list[int]]` | A list of lists, where each inner list is a sequence of integers representing a cleaned email, with each word mapped to an integer index from `word_to_index`. Words not in `vocab` are assigned a value of `0`.     |\n",
        "\n",
        "</center>\n"
      ]
    },
    {
      "cell_type": "markdown",
      "metadata": {
        "id": "sMKDTFWEDow9"
      },
      "source": [
        "\n",
        "\n",
        "---\n",
        "\n",
        "\n",
        "**Example:**\n",
        "\n",
        "Let's assume you have the following inputs:\n",
        "\n",
        "| Variable Name   | Content                                                                                                                   |\n",
        "|-----------------|---------------------------------------------------------------------------------------------------------------------------|\n",
        "| `cleaned_emails`| `[\"hello world\", \"foo email\"]`                                                                                           |\n",
        "| `vocab`         | `[\"hello\", \"world\", \"email\"]`                                                                                             |\n",
        "| `word_to_index` | `{\"hello\": 1, \"world\": 2, \"email\": 3}`                                                                                    |\n",
        "\n",
        "\n",
        "The function `encode_emails(cleaned_emails, vocab, word_to_index)` will return: `[[1, 2], [0, 3]]`\n",
        "\n",
        "In this example:\n",
        "- \"hello\" is mapped to 1,\n",
        "- \"world\" is mapped to 2,\n",
        "- \"foo\" is not in the `vocab`, so it is mapped to 0,\n",
        "- \"email\" is mapped to 3."
      ]
    },
    {
      "cell_type": "markdown",
      "metadata": {
        "id": "ElcGd4WO2rIj"
      },
      "source": [
        "**Note**:\n",
        "\n",
        "Be aware that an incorrect implementation of this function may lead to inconsistent or inaccurate results in later tasks, which could affect your scores, even if your implementations for those tasks are correct. Please check the provided `sample_output_TODO2.txt` to verify the correctness of your implementation.\n"
      ]
    },
    {
      "cell_type": "code",
      "execution_count": null,
      "metadata": {
        "colab": {
          "base_uri": "https://localhost:8080/"
        },
        "id": "pJfMADBtamk0",
        "outputId": "5b8b7460-d886-4a9a-8d44-f173feeb638c"
      },
      "outputs": [],
      "source": [
        "#-#-#-#-#-#-#-#-#-#-#-#-#-#-#-#-#\n",
        "#-# STEP 2: Encode the emails #-#\n",
        "#-#-#-#-#-#-#-#-#-#-#-#-#-#-#-#-#\n",
        "\n",
        "def encode_emails(cleaned_emails, vocab, word_to_index):\n",
        "    \"\"\"\n",
        "    Encodes a list of cleaned email texts into sequences of integers.\n",
        "\n",
        "    Args:\n",
        "        cleaned_emails (list of str): A list where each entry is a cleaned email text.\n",
        "        vocab (list of str): List of words that appear at least 5 times in the corpus.\n",
        "        word_to_index (dict of str: int): A dictionary mapping each word to a unique integer index.\n",
        "\n",
        "    Returns:\n",
        "        encoded_emails (list of [list of int]): A list of lists, where each inner list is a sequence of integers representing a cleaned email.\n",
        "    \"\"\"\n",
        "    encoded_emails = []\n",
        "\n",
        "    ###############################################################################\n",
        "    # TODO 2: your code starts here\n",
        "    # hint: you may consider using:\n",
        "    #   .split(): splits a string into a list. it splits by whitespace in default.\n",
        "    #   .append(): adds an element to the end of a list.\n",
        "\n",
        "\n",
        "    # TODO 2: your code ends here\n",
        "    ###############################################################################\n",
        "\n",
        "    return encoded_emails\n",
        "\n",
        "\n",
        "if __name__ == '__main__': # Encode the emails\n",
        "    encoded_emails = encode_emails(cleaned_emails, vocab, word_to_index)\n",
        "\n",
        "\n",
        "    # Sample outputs:\n",
        "    print(f\"Case 1\")\n",
        "    print(f\"Sample email content: \\n{cleaned_emails[0]}\")\n",
        "    print(f\"Encoded email: \\n{encoded_emails[0]}\\n\")\n",
        "\n",
        "    print(f\"Case 2\")\n",
        "    print(f\"Sample email content: \\n{cleaned_emails[341]}\")\n",
        "    print(f\"Encoded email: \\n{encoded_emails[341]}\\n\")\n",
        "\n",
        "    print(f\"Case 3\")\n",
        "    print(f\"Sample email content: \\n{cleaned_emails[923]}\")\n",
        "    print(f\"Encoded email: \\n{encoded_emails[923]}\\n\")"
      ]
    },
    {
      "cell_type": "markdown",
      "metadata": {
        "id": "tH3C5AaifeJ_"
      },
      "source": [
        "## Step 3: Create paddings"
      ]
    },
    {
      "cell_type": "markdown",
      "metadata": {
        "id": "LV-VX5800ZCN"
      },
      "source": [
        "Since the CNN requires uniform input length, you will implement a function that pads or truncates sequences of integers representing encoded email texts to a maximum length of **`ENCODE_LENGTH` = 300**. You will create a function that takes a list of encoded email sequences (`encoded_emails`) and outputs a 2D numpy array, where each row is a padded or truncated sequence of integers.\n",
        "\n",
        "Padding is needed for sequences of varying lengths, while truncation is used for sequences that exceed a certain length. Padding will be performed with zeros added to the right of the sequences, and truncation will remove extra integers from the end. This ensures all sequences have the same fixed length, which is essential for further processing in machine learning models.\n",
        "\n",
        "DO NOT MODIFY **ENCODE_LENGTH = 300**, as changing it will result in 0 points for the tasks.\n",
        "\n",
        "You will complete the following function:\n",
        "\n",
        "<center>\n",
        "\n",
        "| function name          | parameter name        | parameter datatype    | return type               |\n",
        "|------------------------|-----------------------|-----------------------|---------------------------|\n",
        "| `pad_encoded_emails`   | `encoded_emails`<br> `max_len` | `list[list[int]]`<br> `int` | `np.ndarray` |\n",
        "\n",
        "</center>\n",
        "\n",
        "Which returns the following variable:\n",
        "\n",
        "<center>\n",
        "\n",
        "| variable name          | datatype              | description                                                                     |\n",
        "|------------------------|-----------------------|---------------------------------------------------------------------------------|\n",
        "| `padded_emails`        | `np.ndarray`          | A 2D numpy array of shape `(num_emails, max_len)` where each row is a padded or truncated sequence of integers. |\n",
        "\n",
        "</center>\n"
      ]
    },
    {
      "cell_type": "markdown",
      "metadata": {
        "id": "eSh53ccXWF0H"
      },
      "source": [
        "---\n",
        "\n",
        "**Example**:\n",
        "\n",
        "For example, the `padded_emails` from the input of 3 example variables may look like this:\n",
        "\n",
        "\n",
        "| variable name          | datatype              | example                                                                         |\n",
        "|------------------------|-----------------------|---------------------------------------------------------------------------------|\n",
        "| `encoded_emails`       | `list[list[int]]`     | `[[1, 2, 3], [4, 5, 6, 7, 8], [9]]`                                             |\n",
        "| `max_len`              | `int`                 | `4`                                                                             |\n",
        "| `padded_emails`        | `np.ndarray`          | `[[1, 2, 3, 0], [4, 5, 6, 7], [9, 0, 0, 0]]`                                    |\n"
      ]
    },
    {
      "cell_type": "markdown",
      "metadata": {
        "id": "U0M06za91vxp"
      },
      "source": [
        "**Note**:\n",
        "\n",
        "Be aware that an incorrect implementation of this function may lead to inconsistent or inaccurate results in later tasks, which could affect your scores, even if your implementations for those tasks are correct. Please check the provided `sample_output_TODO3.txt` to verify the correctness of your implementation."
      ]
    },
    {
      "cell_type": "code",
      "execution_count": null,
      "metadata": {
        "colab": {
          "base_uri": "https://localhost:8080/"
        },
        "id": "_pMiHbDDakY8",
        "outputId": "0e373fe3-aded-42ab-8d7e-b233a5b2c8b8"
      },
      "outputs": [],
      "source": [
        "#-#-#-#-#-#-#-#-#-#-#-#-#-#-#-#-#-#-#-#-#-#-#-#-#\n",
        "#-# STEP 3: Create paddings (and truncations) #-#\n",
        "#-#-#-#-#-#-#-#-#-#-#-#-#-#-#-#-#-#-#-#-#-#-#-#-#\n",
        "\n",
        "def pad_encoded_emails(encoded_emails, max_len = 300):\n",
        "    \"\"\"\n",
        "    Pads or truncates encoded email sequences to a specified length using NumPy.\n",
        "\n",
        "    Args:\n",
        "        encoded_emails (list of list of int): A list of lists, where each inner list is a sequence of integers representing a cleaned email.\n",
        "        max_len (int): The maximum length of the sequences after padding/truncation.\n",
        "\n",
        "    Returns:\n",
        "        padded_emails (numpy array of shape (num_emails, max_len)): A 2D numpy array containing the padded/truncated email sequences.\n",
        "    \"\"\"\n",
        "    # Initialize an array of zeros with shape (number of emails, max_len)\n",
        "    padded_emails = np.zeros((len(encoded_emails), max_len), dtype=int)\n",
        "\n",
        "    ###############################################################################\n",
        "    # TODO 3: your code starts here\n",
        "    # hint: you may consider using:\n",
        "    #   enumerate(): gives both the index and value when iterating over a list.\n",
        "\n",
        "    # TODO 3: your code ends here\n",
        "    ###############################################################################\n",
        "\n",
        "    return padded_emails\n",
        "\n",
        "if __name__ == '__main__': # Pad/Truncate the encoded emails\n",
        "    ENCODE_LENGTH = 300 # DO NOT MODIFY THIS. the ENCODE_LENGTH variable should be 300.\n",
        "    padded_emails = pad_encoded_emails(encoded_emails, max_len=ENCODE_LENGTH)\n",
        "\n",
        "    # Sample outputs:\n",
        "    print(f\"Shape of padded emails: {padded_emails.shape}\\n\")\n",
        "\n",
        "    print(f\"Case 1\")\n",
        "    print(f\"Sample padded email: {padded_emails[0]}\\n\")\n",
        "\n",
        "    print(f\"Case 2\")\n",
        "    print(f\"Sample padded email: {padded_emails[821]}\\n\")\n",
        "\n",
        "    print(f\"Case 3\")\n",
        "    print(f\"Sample padded email: {padded_emails[345]}\\n\")\n",
        "\n",
        "\n",
        "\n"
      ]
    },
    {
      "cell_type": "markdown",
      "metadata": {
        "id": "6ST9v8mp73MP"
      },
      "source": [
        "# **Section 2** Compiling and training your spam email classification model (2 tasks to complete)"
      ]
    },
    {
      "cell_type": "markdown",
      "metadata": {
        "id": "yFKA2o-rFf2N"
      },
      "source": [
        "## Step 4: Build the CNN model"
      ]
    },
    {
      "cell_type": "markdown",
      "metadata": {
        "id": "I-eWumgj7ODD"
      },
      "source": [
        "After preprocessing your data, you will build a Convolutional Neural Network (CNN) for text classification. The model will process input text sequences that have been converted into numerical representations through previous encoding and padding.\n",
        "\n",
        "The model will have two inputs:\n",
        "*  `vocab_size`: The size of the vocabulary in your dataset, which sets the input dimension for the embedding layer.\n",
        "*  `input_length`: The length of the input sequences, which is equal to `ENCODE_LENGTH` from step 3.\n"
      ]
    },
    {
      "cell_type": "markdown",
      "metadata": {
        "id": "RsiSzjdc7cbL"
      },
      "source": [
        "## What is an Embedding?\n",
        "\n",
        "In language processing, an **embedding** transforms words from discrete indices into dense vectors that capture semantic relationships. This is important because raw integer representations lack meaning—words like 'urgent' and 'important' may have different indices but should be treated similarly.\n",
        "\n",
        "An **embedding** layer addresses this by learning a semantic representation of words during training, converting each word index into a dense, low-dimensional vector (embedding). These vectors encode semantic information, so words with similar meanings will have similar vector representations. This is especially important in text classification tasks, as understanding word relationships helps the model make better predictions.\n",
        "\n",
        "The embedding layer in the your model will convert these integer sequences into meaningful dense vectors. This prepares the data for further processing by the convolutional layers, which will extract relevant features for classification and enable the model to learn patterns and relationships between words."
      ]
    },
    {
      "cell_type": "markdown",
      "metadata": {
        "id": "EsLNyshbKEu4"
      },
      "source": [
        "Refer to the documentation below for the key layers you may want to use when implementing the model:\n",
        "*   [Embedding](https://www.tensorflow.org/api_docs/python/tf/keras/layers/Embedding): Converts integer sequences to dense vectors of fixed size.\n",
        "<!-- *   [LSTM](https://www.tensorflow.org/api_docs/python/tf/keras/layers/LSTM): Captures sequential dependencies in the data. -->\n",
        "*   [Conv1D](https://www.tensorflow.org/api_docs/python/tf/keras/layers/Conv1D): 1D convolutional layer to detect local patterns.\n",
        "<!-- *   [BatchNormalization](https://www.tensorflow.org/api_docs/python/tf/keras/layers/BatchNormalization): Normalizes the output of a previous layer. -->\n",
        "*   [MaxPooling1D](https://www.tensorflow.org/api_docs/python/tf/keras/layers/MaxPooling1D): Downsamples the input representation.\n",
        "*   [Flatten](https://www.tensorflow.org/api_docs/python/tf/keras/layers/Flatten): Flattens the input to prepare for dense layers.\n",
        "*   [Dense](https://www.tensorflow.org/api_docs/python/tf/keras/layers/Dense): Fully connected layer to perform classification.\n",
        "*   [Dropout](https://www.tensorflow.org/api_docs/python/tf/keras/layers/Dropout): Regularization layer to prevent overfitting.\n",
        "\n",
        "\n",
        "\n",
        "**Hint**:\n",
        "\n",
        "1.   Your model should begin with an [`Embedding`](https://www.tensorflow.org/api_docs/python/tf/keras/layers/Embedding) layer that completes the tokenization process along with data preprocessing. Set the `output_dim` parameter to 300.\n",
        "\n",
        "<!-- 2.   A [`LSTM`](https://www.tensorflow.org/api_docs/python/tf/keras/layers/LSTM) layer is expected after the embedding layer to capture the sequential information in the email. -->\n",
        "\n",
        "2.   In this assignment, a convolutional 'block' should consist of a ```Conv1D``` layer followed by a ```MaxPooling1D``` layer. You can stack multiple blocks to deepen the model (hence the term 'deep learning'). Typically, as you progress through the blocks, the input size decreases (due to the pooling layer in the previous block) while the number of filters in the convolutional layer increases.\n",
        "\n",
        "3.   Since this is a binary classification task, the final layer of your model should have the appropriate dimensions and use a ```sigmoid``` activation function.\n",
        "\n",
        "\n",
        "You will complete the following function:\n",
        "<center>\n",
        "\n",
        "| function name  | parameter name            | parameter datatype | return type               |\n",
        "|----------------|---------------------------|---------------------|---------------------------|\n",
        "| `create_model` | `vocab_size`<br> `input_length` | `int`<br> `int` | `Sequential`              |\n",
        "\n",
        "</center>\n",
        "\n",
        "Which returns the following variable:\n",
        "\n",
        "<center>\n",
        "\n",
        "| variable name             | datatype          | description                                                                 |\n",
        "|---------------------------|-------------------|-----------------------------------------------------------------------------|\n",
        "| `model`                   | `Sequential`      | A compiled CNN model ready for training on text data.                       |\n",
        "\n",
        "</center>\n",
        "\n",
        "**Optional Task**:\n",
        "\n",
        "For sequential data like text, [Recurrent Neural Networks (RNN)](https://keras.io/api/layers/recurrent_layers) are more suitable. While we do not cover the details of RNNs, you are encouraged to study them on your own and implement them for this task."
      ]
    },
    {
      "cell_type": "markdown",
      "metadata": {
        "id": "2TZXuQsrtoAD"
      },
      "source": [
        "You **must** ensure your final model has fewer than 10,000,000 parameters (1e7 / 10 million); otherwise, you will receive 0 points for all model-related tasks. For your reference, a model with approximately 2 million parameters can achieve over 90% on the test set."
      ]
    },
    {
      "cell_type": "code",
      "execution_count": null,
      "metadata": {
        "colab": {
          "base_uri": "https://localhost:8080/",
          "height": 596
        },
        "id": "5Z5_nS6DSvt8",
        "outputId": "cd57f4fd-7d89-414e-e70a-8c6669ddb4bf"
      },
      "outputs": [],
      "source": [
        "#-#-#-#-#-#-#-#-#-#-#-#-#-#-#-#-#\n",
        "#-# STEP 4:  Build the model  #-#\n",
        "#-#-#-#-#-#-#-#-#-#-#-#-#-#-#-#-#\n",
        "SEED = 2211\n",
        "from sklearn.model_selection import train_test_split\n",
        "from tensorflow.keras.models import Sequential\n",
        "from tensorflow.keras.layers import Embedding, Conv1D, MaxPooling1D, Flatten, Dense, Dropout, Input\n",
        "from tensorflow.keras.utils import set_random_seed\n",
        "set_random_seed(SEED)\n",
        "\n",
        "\n",
        "def build_model(vocab_size, input_length):\n",
        "    \"\"\"\n",
        "    build the CNN model for binary classification of spam email.\n",
        "\n",
        "    Args:\n",
        "        vocab_size (int): The size of the vocabulary.\n",
        "        input_length (int): The length of input sequences.\n",
        "\n",
        "    Returns:\n",
        "        Sequential: The compiled CNN model.\n",
        "    \"\"\"\n",
        "\n",
        "    model = Sequential()\n",
        "\n",
        "    model.add(Input((input_length,),batch_size=32))\n",
        "\n",
        "    ###############################################################################\n",
        "    # TODO 4: your code starts here\n",
        "\n",
        "    # TODO 4: your code ends here\n",
        "    ###############################################################################\n",
        "\n",
        "    return model\n",
        "\n",
        "if __name__ == \"__main__\":\n",
        "    # Split the data into training and test sets. Do not modify the \"random_state\" parameter, as doing so will give entirely different split.\n",
        "    X_train, X_test, y_train, y_test = train_test_split(padded_emails, labels_of_emails, test_size=0.3, random_state=SEED)\n",
        "    X_train = np.array(X_train)\n",
        "    print(np.sum(X_train[0]))\n",
        "    print(np.sum(X_test[0]))\n",
        "    X_test = np.array(X_test)\n",
        "    y_train = np.array(y_train)\n",
        "    y_test = np.array(y_test)\n",
        "    print(f\"Training data shape: {X_train.shape}\")\n",
        "    print(f\"Test data shape: {X_test.shape}\")\n",
        "    print(f\"Training labels shape: {len(y_train)}\")\n",
        "    print(f\"Test labels shape: {len(y_test)}\")\n",
        "\n",
        "    # create the model\n",
        "    model = build_model(vocab_size, X_train.shape[1] ) # (voacb_size, 300)\n",
        "    print(model.summary())"
      ]
    },
    {
      "cell_type": "markdown",
      "metadata": {
        "id": "xYD1i4GEFnG4"
      },
      "source": [
        "## Step 5: Compile and Train the model"
      ]
    },
    {
      "cell_type": "markdown",
      "metadata": {
        "id": "9jhdXz6wraxu"
      },
      "source": [
        "It's time to test your model! Now you need to **compile** and **train** the CNN model in `build_model(vocab_size, input_length)`.\n",
        "\n",
        "** Overview of Steps: **\n",
        "\n",
        "1. **Model Compilation**:\n",
        "   - In this step, you will compile the CNN model using the [model.compile( )](https://www.tensorflow.org/api_docs/python/tf/keras/Model#compile) method.\n",
        "     - **Optimizer**: This controls the learning process. You will use the `Adam` optimizer.\n",
        "     - **Loss Function**: This measures how well the model's predictions match the true labels. For binary classification, `binary_crossentropy` is appropriate. (Use `categorical_crossentropy` for multi-class classification.)\n",
        "     - **Metrics**: These evaluate the model's performance during training. You will use the `accuracy` metric to track the proportion of correctly classified instances.\n",
        "\n",
        "2. **Model Training**:\n",
        "   - After compiling the model, you will train it using the [model.fit( )](https://www.tensorflow.org/api_docs/python/tf/keras/Model#fit) method.\n",
        "      - This involves providing the model with training data and labels (`X_train` and `y_train`) for several epochs. An epoch represents one complete pass through the training dataset.\n",
        "      - **Set `epochs` = 25** and feel free to adjust the `batch_size`. A good starting point is to set `batch_size = 32`.\n",
        "      - You will also use `validation_data` (`X_test` and `y_test`) to monitor the model's performance after each epoch, which helps prevent overfitting.\n",
        "      - Be sure to **include `callbacks**=[model_checkpoint] in your code.\n",
        "\n",
        "3. **Callbacks**:\n",
        "   - Callbacks are tools provided by Keras to customize the training process. The `model_checkpoint` callback is provided for you, and you need to include it in your `model.fit()`.\n",
        "     - **ModelCheckpoint**: This saves the best version of the model during training based on its performance on the validation set.\n"
      ]
    },
    {
      "cell_type": "code",
      "execution_count": null,
      "metadata": {
        "colab": {
          "base_uri": "https://localhost:8080/"
        },
        "id": "P9fqxJSwLT8V",
        "outputId": "8986da8f-d0f8-4fe5-f6df-12c374d8c25a"
      },
      "outputs": [],
      "source": [
        "#-#-#-#-#-#-#-#-#-#-#-#-#-#-#-#-#-#-#-#-#-#-#\n",
        "#-# STEP 5:  Compile and Train the model  #-#\n",
        "#-#-#-#-#-#-#-#-#-#-#-#-#-#-#-#-#-#-#-#-#-#-#\n",
        "\n",
        "import os\n",
        "from tensorflow.keras.optimizers import Adam\n",
        "from tensorflow.keras.callbacks import ModelCheckpoint\n",
        "\n",
        "\n",
        "def compile_and_train_model(model, X_train, y_train, X_test, y_test,\n",
        "                            weights_save_path='model_pa2_cnn.keras',\n",
        "                            epochs=25, batch_size=32):\n",
        "    \"\"\"\n",
        "    Compiles and trains the given model.\n",
        "\n",
        "    Parameters:\n",
        "    - model: The Keras model to compile and train.\n",
        "    - X_train: Training data features.\n",
        "    - y_train: Training data labels.\n",
        "    - X_test: Validation data features.\n",
        "    - y_test: Validation data labels.\n",
        "    - weights_save_path: Path to save the best model weights (default is 'model_pa2_cnn.keras').\n",
        "    - epochs: Number of training epochs (default is 25).\n",
        "    - batch_size: Batch size for training (default is 32).\n",
        "\n",
        "    Returns:\n",
        "    - history: Training history object.\n",
        "    - model: The trained Keras model.\n",
        "    \"\"\"\n",
        "\n",
        "    # Set up ModelCheckpoint callback\n",
        "    model_checkpoint = ModelCheckpoint(filepath=weights_save_path,\n",
        "                                       save_best_only=True,\n",
        "                                       monitor='val_loss',\n",
        "                                       verbose=1)\n",
        "\n",
        "    ###############################################################################\n",
        "    # TODO 5: your code starts here\n",
        "    # hint: you may consider using:\n",
        "    #   model.compile(optimizer(you can set the learning rates here), loss, metrics)\n",
        "    #   history = model.fit(X_train, y_train, epochs, batch_size, validation_data, callbacks=[model_checkpoint])\n",
        "\n",
        "\n",
        "\n",
        "    # TODO 5: your code ends here\n",
        "    ###############################################################################\n",
        "\n",
        "    # Evaluate the model\n",
        "    loss, accuracy = model.evaluate(X_test, y_test)\n",
        "    print(f\"Test Accuracy: {accuracy * 100:.2f}%\")\n",
        "\n",
        "    return history, model\n",
        "\n",
        "if __name__ == '__main__':\n",
        "    # Call the function to compile, train, evaluate, and save the model\n",
        "    history, trained_model = compile_and_train_model(model, X_train, y_train, X_test, y_test)"
      ]
    },
    {
      "cell_type": "markdown",
      "metadata": {
        "id": "G2855F0H8P4c"
      },
      "source": [
        "# **Section 3** Visualising the outcome (no task to complete)"
      ]
    },
    {
      "cell_type": "markdown",
      "metadata": {
        "id": "0qOql646S4fL"
      },
      "source": [
        "Now that the model is trained, use the following code to evaluate and visualize your results!"
      ]
    },
    {
      "cell_type": "code",
      "execution_count": null,
      "metadata": {
        "colab": {
          "base_uri": "https://localhost:8080/",
          "height": 443
        },
        "id": "Ge6T9j_Ew1AC",
        "outputId": "79fb2221-b23a-47fe-d715-4b3cda49410e"
      },
      "outputs": [],
      "source": [
        "import matplotlib.pyplot as plt\n",
        "import tensorflow.keras as keras\n",
        "\n",
        "def visualize_hist(history):\n",
        "    plt.figure(figsize=(8, 4))\n",
        "    plt.subplot(1, 2, 1)\n",
        "    plt.plot(history.history['accuracy'], label='Training Accuracy')\n",
        "    plt.plot(history.history['val_accuracy'], label='Validation Accuracy')\n",
        "    plt.xlabel('Epochs')\n",
        "    plt.ylabel('Accuracy')\n",
        "    plt.legend()\n",
        "\n",
        "    plt.subplot(1, 2, 2)\n",
        "    plt.plot(history.history['loss'], label='Training Loss')\n",
        "    plt.plot(history.history['val_loss'], label='Validation Loss')\n",
        "    plt.xlabel('Epochs')\n",
        "    plt.ylabel('Loss')\n",
        "    plt.legend()\n",
        "\n",
        "    plt.tight_layout()\n",
        "    plt.show()\n",
        "\n",
        "if __name__ == \"__main__\":\n",
        "    model = keras.models.load_model('model_pa2_cnn.keras')\n",
        "    val_loss, val_accuracy = model.evaluate(X_test, y_test, verbose=1)\n",
        "    print(f'Validation accuracy: {val_accuracy}')\n",
        "    visualize_hist(history)"
      ]
    },
    {
      "cell_type": "markdown",
      "metadata": {
        "id": "HCMLABvjqbC7"
      },
      "source": [
        "# **Appendix** (no tasks to complete)"
      ]
    },
    {
      "cell_type": "markdown",
      "metadata": {
        "id": "mdsOtbkwjpNe"
      },
      "source": [
        "## Evolution of Spam Detection\n",
        "Spam detection has evolved significantly over the years, resembling an ongoing chess match between clever spammers and vigilant defenders of our inboxes. In this section, we will discuss some earlier spam detection methods that existed before the rise of current deep learning-based approaches."
      ]
    },
    {
      "cell_type": "markdown",
      "metadata": {
        "id": "Uy43H-Toj-MB"
      },
      "source": [
        "### Early Days: Rule-Based Systems\n",
        "Initially, simple rule-based systems served as our first line of defense. These systems used predefined rules to filter out spam. For instance, an email containing the word 'free' could be flagged as spam. Although easy to implement, these systems were soon outsmarted by clever spammers who constantly changed their tactics. It became a never-ending game of 'whack-a-mole.'"
      ]
    },
    {
      "cell_type": "code",
      "execution_count": null,
      "metadata": {
        "colab": {
          "base_uri": "https://localhost:8080/"
        },
        "id": "89K0Pe6DkBQF",
        "outputId": "f876aa02-1a7c-4c63-c48b-ee11bbe38347"
      },
      "outputs": [],
      "source": [
        "def is_spam(email):\n",
        "    # Define spam keywords\n",
        "    spam_keywords = ['free', 'win', 'prize', 'click here']\n",
        "\n",
        "    # Iterate through the email to find if it contains the spam keywords\n",
        "    for word in spam_keywords:\n",
        "        if word in email.lower():\n",
        "            return True\n",
        "    return False\n",
        "\n",
        "if __name__ == '__main__':\n",
        "    email = \"Congratulations! Click here to win a free prize!\"\n",
        "    print(is_spam(email))  # Output: True"
      ]
    },
    {
      "cell_type": "markdown",
      "metadata": {
        "id": "plc3mZVjkCyq"
      },
      "source": [
        "###   Bayesian Classifiers: A Smarter Approach\n",
        "\n",
        "Next, Bayesian classifiers emerged, introducing a more adaptive strategy. BUsing probabilistic models, these classifiers analyzed word frequencies to assess the likelihood of an email being spam. As statistician John Tukey noted:\n",
        "\n",
        "> \"The greatest value of a picture is when it forces us to notice what we never expected to see.\"\n",
        "\n",
        "Bayesian classifiers enabled us to identify patterns and probabilities in text, providing a more sophisticated method for combating spam."
      ]
    },
    {
      "cell_type": "code",
      "execution_count": null,
      "metadata": {
        "colab": {
          "base_uri": "https://localhost:8080/"
        },
        "id": "SBjzQ6m4kErI",
        "outputId": "1a60aa6e-126d-4a3a-f0c9-03f0a8baa961"
      },
      "outputs": [],
      "source": [
        "from collections import Counter\n",
        "import math\n",
        "\n",
        "def train_bayes(emails, labels):\n",
        "    # Initialize counters for spam and ham words\n",
        "    spam_words = Counter()\n",
        "    ham_words = Counter()\n",
        "    spam_count = 0\n",
        "    ham_count = 0\n",
        "\n",
        "    # Count words in spam and ham emails\n",
        "    for email, label in zip(emails, labels):\n",
        "        words = email.lower().split()\n",
        "        if label == 'spam':\n",
        "            spam_words.update(words)\n",
        "            spam_count += 1\n",
        "        else:\n",
        "            ham_words.update(words)\n",
        "            ham_count += 1\n",
        "\n",
        "    return spam_words, ham_words, spam_count, ham_count\n",
        "\n",
        "def predict_bayes(email, spam_words, ham_words, spam_count, ham_count):\n",
        "    words = email.lower().split()\n",
        "\n",
        "    # Calculate prior probabilities\n",
        "    p_spam = spam_count / (spam_count + ham_count)\n",
        "    p_ham = ham_count / (spam_count + ham_count)\n",
        "\n",
        "    # Initialize related quantities\n",
        "    total_spam_words = sum(spam_words.values())\n",
        "    total_ham_words = sum(ham_words.values())\n",
        "    vocab = set(spam_words.keys()).union(set(ham_words.keys()))\n",
        "    vocab_size = len(vocab)\n",
        "    spam_likelihood = 0\n",
        "    ham_likelihood = 0\n",
        "\n",
        "    # Calculate likelihoods with Laplace smoothing\n",
        "    for word in words:\n",
        "        spam_likelihood += math.log((spam_words[word] + 1) / (total_spam_words + vocab_size))\n",
        "        ham_likelihood += math.log((ham_words[word] + 1) / (total_ham_words + vocab_size))\n",
        "\n",
        "    # Combine likelihoods with prior probabilities\n",
        "    p_spam_given_email = spam_likelihood + math.log(p_spam)\n",
        "    p_ham_given_email = ham_likelihood + math.log(p_ham)\n",
        "\n",
        "    # Predict based on higher probability\n",
        "    return 'spam' if p_spam_given_email > p_ham_given_email else 'ham'\n",
        "\n",
        "if __name__ == '__main__':\n",
        "    # Training data\n",
        "    emails = [\"Win a free prize now\", \"Meeting at 10am\", \"Click here to claim your prize\"]\n",
        "    labels = [\"spam\", \"ham\", \"spam\"]\n",
        "\n",
        "    # Train the model\n",
        "    spam_words, ham_words, spam_count, ham_count = train_bayes(emails, labels)\n",
        "\n",
        "    # Test the model\n",
        "    email = \"Free prize for you\"\n",
        "    print(predict_bayes(email, spam_words, ham_words, spam_count, ham_count))  # Output: spam"
      ]
    },
    {
      "cell_type": "markdown",
      "metadata": {
        "id": "t2VFk4fMkFQb"
      },
      "source": [
        "###   Classical Machine Learning: Enter SVMs and Random Forests\n",
        "The advent of machine learning marked a significant leap forward in spam detection. Algorithms such as Support Vector Machines (SVMs) and Random Forests gained popularity for their ability to handle large datasets and achieve high accuracy. However, they necessitated extensive feature engineering—a meticulous process of identifying and creating relevant features from raw data."
      ]
    },
    {
      "cell_type": "code",
      "execution_count": null,
      "metadata": {
        "colab": {
          "base_uri": "https://localhost:8080/"
        },
        "id": "diGrjg6wkFti",
        "outputId": "6de8165b-d3d1-4ca6-ff5a-dc4da6f82aaa"
      },
      "outputs": [],
      "source": [
        "from sklearn.feature_extraction.text import CountVectorizer\n",
        "from sklearn.svm import SVC\n",
        "\n",
        "if __name__ == '__main__':\n",
        "    emails = [\"Win a free prize now\", \"Meeting at 10am\", \"Click here to claim your prize\"]\n",
        "    labels = [1, 0, 1]  # 1 for spam, 0 for ham\n",
        "\n",
        "    # use Support Vector Classifier (a kind of SVM) to classify spam emails\n",
        "    vectorizer = CountVectorizer()\n",
        "    X = vectorizer.fit_transform(emails)\n",
        "    model = SVC()\n",
        "    model.fit(X, labels)\n",
        "\n",
        "    email = \"Free prize for you\"\n",
        "    email_vec = vectorizer.transform([email])\n",
        "    print(model.predict(email_vec)[0])  # Output: 1 (spam)"
      ]
    }
  ],
  "metadata": {
    "accelerator": "GPU",
    "colab": {
      "collapsed_sections": [
        "7arK6FohjDuX"
      ],
      "gpuType": "T4",
      "provenance": []
    },
    "kernelspec": {
      "display_name": "Python 3",
      "name": "python3"
    },
    "language_info": {
      "name": "python"
    },
    "widgets": {
      "application/vnd.jupyter.widget-state+json": {
        "0c4493aa3271499791f73d29fb51e16c": {
          "model_module": "@jupyter-widgets/controls",
          "model_module_version": "1.5.0",
          "model_name": "HTMLModel",
          "state": {
            "_dom_classes": [],
            "_model_module": "@jupyter-widgets/controls",
            "_model_module_version": "1.5.0",
            "_model_name": "HTMLModel",
            "_view_count": null,
            "_view_module": "@jupyter-widgets/controls",
            "_view_module_version": "1.5.0",
            "_view_name": "HTMLView",
            "description": "",
            "description_tooltip": null,
            "layout": "IPY_MODEL_8f98485bb66f4803bda7b0c8582295eb",
            "placeholder": "​",
            "style": "IPY_MODEL_beab8aebcdbb458aa581a709e3f04d8f",
            "value": " 10749/0 [00:00&lt;00:00, 39562.90 examples/s]"
          }
        },
        "425a4227f7044359ac56e2678b77e32f": {
          "model_module": "@jupyter-widgets/controls",
          "model_module_version": "1.5.0",
          "model_name": "ProgressStyleModel",
          "state": {
            "_model_module": "@jupyter-widgets/controls",
            "_model_module_version": "1.5.0",
            "_model_name": "ProgressStyleModel",
            "_view_count": null,
            "_view_module": "@jupyter-widgets/base",
            "_view_module_version": "1.2.0",
            "_view_name": "StyleView",
            "bar_color": null,
            "description_width": ""
          }
        },
        "5e67214c1a7043edb13d2f513a861856": {
          "model_module": "@jupyter-widgets/controls",
          "model_module_version": "1.5.0",
          "model_name": "HTMLModel",
          "state": {
            "_dom_classes": [],
            "_model_module": "@jupyter-widgets/controls",
            "_model_module_version": "1.5.0",
            "_model_name": "HTMLModel",
            "_view_count": null,
            "_view_module": "@jupyter-widgets/controls",
            "_view_module_version": "1.5.0",
            "_view_name": "HTMLView",
            "description": "",
            "description_tooltip": null,
            "layout": "IPY_MODEL_ca5133bbaeae4d2a8a5ed3d9eb471798",
            "placeholder": "​",
            "style": "IPY_MODEL_7d09a099bdd94d719c25f8fdf6c420c4",
            "value": "Generating train split: "
          }
        },
        "7babbc90ca6844f5a7ae8031b4d9d2ac": {
          "model_module": "@jupyter-widgets/base",
          "model_module_version": "1.2.0",
          "model_name": "LayoutModel",
          "state": {
            "_model_module": "@jupyter-widgets/base",
            "_model_module_version": "1.2.0",
            "_model_name": "LayoutModel",
            "_view_count": null,
            "_view_module": "@jupyter-widgets/base",
            "_view_module_version": "1.2.0",
            "_view_name": "LayoutView",
            "align_content": null,
            "align_items": null,
            "align_self": null,
            "border": null,
            "bottom": null,
            "display": null,
            "flex": null,
            "flex_flow": null,
            "grid_area": null,
            "grid_auto_columns": null,
            "grid_auto_flow": null,
            "grid_auto_rows": null,
            "grid_column": null,
            "grid_gap": null,
            "grid_row": null,
            "grid_template_areas": null,
            "grid_template_columns": null,
            "grid_template_rows": null,
            "height": null,
            "justify_content": null,
            "justify_items": null,
            "left": null,
            "margin": null,
            "max_height": null,
            "max_width": null,
            "min_height": null,
            "min_width": null,
            "object_fit": null,
            "object_position": null,
            "order": null,
            "overflow": null,
            "overflow_x": null,
            "overflow_y": null,
            "padding": null,
            "right": null,
            "top": null,
            "visibility": null,
            "width": "20px"
          }
        },
        "7d09a099bdd94d719c25f8fdf6c420c4": {
          "model_module": "@jupyter-widgets/controls",
          "model_module_version": "1.5.0",
          "model_name": "DescriptionStyleModel",
          "state": {
            "_model_module": "@jupyter-widgets/controls",
            "_model_module_version": "1.5.0",
            "_model_name": "DescriptionStyleModel",
            "_view_count": null,
            "_view_module": "@jupyter-widgets/base",
            "_view_module_version": "1.2.0",
            "_view_name": "StyleView",
            "description_width": ""
          }
        },
        "80e4eba1082c4915ba60488945fb4016": {
          "model_module": "@jupyter-widgets/controls",
          "model_module_version": "1.5.0",
          "model_name": "HBoxModel",
          "state": {
            "_dom_classes": [],
            "_model_module": "@jupyter-widgets/controls",
            "_model_module_version": "1.5.0",
            "_model_name": "HBoxModel",
            "_view_count": null,
            "_view_module": "@jupyter-widgets/controls",
            "_view_module_version": "1.5.0",
            "_view_name": "HBoxView",
            "box_style": "",
            "children": [
              "IPY_MODEL_5e67214c1a7043edb13d2f513a861856",
              "IPY_MODEL_cd4e155b3239444da748a43d6baa0a80",
              "IPY_MODEL_0c4493aa3271499791f73d29fb51e16c"
            ],
            "layout": "IPY_MODEL_8597c6a6bb094ae488288ebb4fd4e590"
          }
        },
        "8597c6a6bb094ae488288ebb4fd4e590": {
          "model_module": "@jupyter-widgets/base",
          "model_module_version": "1.2.0",
          "model_name": "LayoutModel",
          "state": {
            "_model_module": "@jupyter-widgets/base",
            "_model_module_version": "1.2.0",
            "_model_name": "LayoutModel",
            "_view_count": null,
            "_view_module": "@jupyter-widgets/base",
            "_view_module_version": "1.2.0",
            "_view_name": "LayoutView",
            "align_content": null,
            "align_items": null,
            "align_self": null,
            "border": null,
            "bottom": null,
            "display": null,
            "flex": null,
            "flex_flow": null,
            "grid_area": null,
            "grid_auto_columns": null,
            "grid_auto_flow": null,
            "grid_auto_rows": null,
            "grid_column": null,
            "grid_gap": null,
            "grid_row": null,
            "grid_template_areas": null,
            "grid_template_columns": null,
            "grid_template_rows": null,
            "height": null,
            "justify_content": null,
            "justify_items": null,
            "left": null,
            "margin": null,
            "max_height": null,
            "max_width": null,
            "min_height": null,
            "min_width": null,
            "object_fit": null,
            "object_position": null,
            "order": null,
            "overflow": null,
            "overflow_x": null,
            "overflow_y": null,
            "padding": null,
            "right": null,
            "top": null,
            "visibility": null,
            "width": null
          }
        },
        "8f98485bb66f4803bda7b0c8582295eb": {
          "model_module": "@jupyter-widgets/base",
          "model_module_version": "1.2.0",
          "model_name": "LayoutModel",
          "state": {
            "_model_module": "@jupyter-widgets/base",
            "_model_module_version": "1.2.0",
            "_model_name": "LayoutModel",
            "_view_count": null,
            "_view_module": "@jupyter-widgets/base",
            "_view_module_version": "1.2.0",
            "_view_name": "LayoutView",
            "align_content": null,
            "align_items": null,
            "align_self": null,
            "border": null,
            "bottom": null,
            "display": null,
            "flex": null,
            "flex_flow": null,
            "grid_area": null,
            "grid_auto_columns": null,
            "grid_auto_flow": null,
            "grid_auto_rows": null,
            "grid_column": null,
            "grid_gap": null,
            "grid_row": null,
            "grid_template_areas": null,
            "grid_template_columns": null,
            "grid_template_rows": null,
            "height": null,
            "justify_content": null,
            "justify_items": null,
            "left": null,
            "margin": null,
            "max_height": null,
            "max_width": null,
            "min_height": null,
            "min_width": null,
            "object_fit": null,
            "object_position": null,
            "order": null,
            "overflow": null,
            "overflow_x": null,
            "overflow_y": null,
            "padding": null,
            "right": null,
            "top": null,
            "visibility": null,
            "width": null
          }
        },
        "beab8aebcdbb458aa581a709e3f04d8f": {
          "model_module": "@jupyter-widgets/controls",
          "model_module_version": "1.5.0",
          "model_name": "DescriptionStyleModel",
          "state": {
            "_model_module": "@jupyter-widgets/controls",
            "_model_module_version": "1.5.0",
            "_model_name": "DescriptionStyleModel",
            "_view_count": null,
            "_view_module": "@jupyter-widgets/base",
            "_view_module_version": "1.2.0",
            "_view_name": "StyleView",
            "description_width": ""
          }
        },
        "ca5133bbaeae4d2a8a5ed3d9eb471798": {
          "model_module": "@jupyter-widgets/base",
          "model_module_version": "1.2.0",
          "model_name": "LayoutModel",
          "state": {
            "_model_module": "@jupyter-widgets/base",
            "_model_module_version": "1.2.0",
            "_model_name": "LayoutModel",
            "_view_count": null,
            "_view_module": "@jupyter-widgets/base",
            "_view_module_version": "1.2.0",
            "_view_name": "LayoutView",
            "align_content": null,
            "align_items": null,
            "align_self": null,
            "border": null,
            "bottom": null,
            "display": null,
            "flex": null,
            "flex_flow": null,
            "grid_area": null,
            "grid_auto_columns": null,
            "grid_auto_flow": null,
            "grid_auto_rows": null,
            "grid_column": null,
            "grid_gap": null,
            "grid_row": null,
            "grid_template_areas": null,
            "grid_template_columns": null,
            "grid_template_rows": null,
            "height": null,
            "justify_content": null,
            "justify_items": null,
            "left": null,
            "margin": null,
            "max_height": null,
            "max_width": null,
            "min_height": null,
            "min_width": null,
            "object_fit": null,
            "object_position": null,
            "order": null,
            "overflow": null,
            "overflow_x": null,
            "overflow_y": null,
            "padding": null,
            "right": null,
            "top": null,
            "visibility": null,
            "width": null
          }
        },
        "cd4e155b3239444da748a43d6baa0a80": {
          "model_module": "@jupyter-widgets/controls",
          "model_module_version": "1.5.0",
          "model_name": "FloatProgressModel",
          "state": {
            "_dom_classes": [],
            "_model_module": "@jupyter-widgets/controls",
            "_model_module_version": "1.5.0",
            "_model_name": "FloatProgressModel",
            "_view_count": null,
            "_view_module": "@jupyter-widgets/controls",
            "_view_module_version": "1.5.0",
            "_view_name": "ProgressView",
            "bar_style": "success",
            "description": "",
            "description_tooltip": null,
            "layout": "IPY_MODEL_7babbc90ca6844f5a7ae8031b4d9d2ac",
            "max": 1,
            "min": 0,
            "orientation": "horizontal",
            "style": "IPY_MODEL_425a4227f7044359ac56e2678b77e32f",
            "value": 1
          }
        }
      }
    }
  },
  "nbformat": 4,
  "nbformat_minor": 0
}
